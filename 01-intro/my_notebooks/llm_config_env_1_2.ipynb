{
 "cells": [
  {
   "cell_type": "code",
   "execution_count": 1,
   "id": "9c8ff939-0823-4759-9471-0b99837b87e8",
   "metadata": {},
   "outputs": [],
   "source": [
    "import os\n",
    "from dotenv import load_dotenv\n",
    "from openai import OpenAI"
   ]
  },
  {
   "cell_type": "code",
   "execution_count": 2,
   "id": "bedd45d8-791d-49a7-9d55-cbf58afc6ae5",
   "metadata": {},
   "outputs": [],
   "source": [
    "# Load environment variables from .env file\n",
    "load_dotenv()\n",
    "\n",
    "# Retrieve the API key from environment variables\n",
    "api_key = os.getenv(\"OPENAI_API_KEY\")\n",
    "\n",
    "# Print the API key\n",
    "#print(api_key)\n",
    "\n",
    "client = OpenAI(api_key=api_key)"
   ]
  },
  {
   "cell_type": "code",
   "execution_count": 3,
   "id": "83524d2a",
   "metadata": {},
   "outputs": [],
   "source": [
    "# os.environ \n",
    "# check if the open ai key is in our environment variables , but you had to export it first\n",
    "# example export OPENAI_API_KEY=sk-1234567890"
   ]
  },
  {
   "cell_type": "code",
   "execution_count": 5,
   "id": "6be65779",
   "metadata": {},
   "outputs": [],
   "source": [
    "response = client.chat.completions.create(\n",
    "    model=\"gpt-4o\",\n",
    "    messages=[\n",
    "        {\"role\": \"user\", \"content\": \"is it too late to join the course?\"},\n",
    "    ]\n",
    ")"
   ]
  },
  {
   "cell_type": "code",
   "execution_count": 6,
   "id": "33c2eb2f",
   "metadata": {},
   "outputs": [
    {
     "data": {
      "text/plain": [
       "\"Whether it is too late to join a course depends on several factors, such as the specific course's policies, enrollment deadlines, and how far along the course already is. Here are a few steps you can take to determine if you can still join:\\n\\n1. **Check the Course's Official Website or Platform**: Look for any published deadlines or enrollment periods.\\n2. **Contact the Instructor or Administrator**: Reach out directly to the course facilitator or the administrative office for the most accurate information.\\n3. **Consider Drop/Add Periods**: Some institutions have a grace period at the beginning of the term during which students can add or drop courses without penalties.\\n4. **Look for Prerecorded Content**: If the course is self-paced or has recorded lectures, you might still be able to catch up even if it has already started.\\n5. **Special Cases or Exceptions**: Sometimes instructors may allow late enrollment under special circumstances.\\n\\nIf you provide more specific details about the course, I can offer more tailored advice!\""
      ]
     },
     "execution_count": 6,
     "metadata": {},
     "output_type": "execute_result"
    }
   ],
   "source": [
    "response.choices[0].message.content"
   ]
  }
 ],
 "metadata": {
  "kernelspec": {
   "display_name": "Python 3 (ipykernel)",
   "language": "python",
   "name": "python3"
  },
  "language_info": {
   "codemirror_mode": {
    "name": "ipython",
    "version": 3
   },
   "file_extension": ".py",
   "mimetype": "text/x-python",
   "name": "python",
   "nbconvert_exporter": "python",
   "pygments_lexer": "ipython3",
   "version": "3.10.14"
  }
 },
 "nbformat": 4,
 "nbformat_minor": 5
}
