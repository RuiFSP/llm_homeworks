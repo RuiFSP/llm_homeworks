{
 "cells": [
  {
   "cell_type": "code",
   "execution_count": 5,
   "id": "9c8ff939-0823-4759-9471-0b99837b87e8",
   "metadata": {},
   "outputs": [],
   "source": [
    "import os\n",
    "from dotenv import load_dotenv\n",
    "from openai import OpenAI"
   ]
  },
  {
   "cell_type": "code",
   "execution_count": 6,
   "id": "bedd45d8-791d-49a7-9d55-cbf58afc6ae5",
   "metadata": {},
   "outputs": [],
   "source": [
    "# Load environment variables from .env file\n",
    "load_dotenv()\n",
    "\n",
    "# Retrieve the API key from environment variables\n",
    "api_key = os.getenv(\"OPENAI_API_KEY\")\n",
    "\n",
    "# Print the API key\n",
    "#print(api_key)\n",
    "\n",
    "client = OpenAI(api_key=api_key)"
   ]
  },
  {
   "cell_type": "code",
   "execution_count": 3,
   "id": "83524d2a",
   "metadata": {},
   "outputs": [],
   "source": [
    "# os.environ \n",
    "# check if the open ai key is in our environment variables , but you had to export it first\n",
    "# example export OPENAI_API_KEY=sk-1234567890"
   ]
  },
  {
   "cell_type": "code",
   "execution_count": 7,
   "id": "6be65779",
   "metadata": {},
   "outputs": [],
   "source": [
    "response = client.chat.completions.create(\n",
    "    model=\"gpt-4o\",\n",
    "    messages=[\n",
    "        {\"role\": \"user\", \"content\": \"is it too late to join the course?\"},\n",
    "    ]\n",
    ")"
   ]
  },
  {
   "cell_type": "code",
   "execution_count": 8,
   "id": "33c2eb2f",
   "metadata": {},
   "outputs": [
    {
     "data": {
      "text/plain": [
       "\"It depends on the specific course and its policies regarding enrollment. Some courses allow late registration or have rolling admissions, while others have strict deadlines. Here are a few steps you can take to find out if you can still join:\\n\\n1. **Check the Course Website:** Most courses will have specific information about enrollment dates and deadlines on their official website.\\n\\n2. **Contact the Instructor or Administration:** If the information isn't readily available online, reaching out to the course instructor or the educational institution's administration can provide you with the most accurate information.\\n\\n3. **Review Policies:** Some institutions may have policies for late enrollment, such as a grace period or a late fee. Make sure to review these policies to understand your options.\\n\\n4. **Consider Online Options:** If the course is full or the deadline has passed, you might still be able to find similar courses offered online or through other institutions that have more flexible enrollment policies.\\n\\n5. **Waitlist:** In some cases, even if the course is full, you might be able to join a waitlist in case a spot opens up.\\n\\nFeel free to proceed based on the specific situation and course details.\""
      ]
     },
     "execution_count": 8,
     "metadata": {},
     "output_type": "execute_result"
    }
   ],
   "source": [
    "response.choices[0].message.content"
   ]
  }
 ],
 "metadata": {
  "kernelspec": {
   "display_name": "Python 3 (ipykernel)",
   "language": "python",
   "name": "python3"
  },
  "language_info": {
   "codemirror_mode": {
    "name": "ipython",
    "version": 3
   },
   "file_extension": ".py",
   "mimetype": "text/x-python",
   "name": "python",
   "nbconvert_exporter": "python",
   "pygments_lexer": "ipython3",
   "version": "3.10.14"
  }
 },
 "nbformat": 4,
 "nbformat_minor": 5
}
